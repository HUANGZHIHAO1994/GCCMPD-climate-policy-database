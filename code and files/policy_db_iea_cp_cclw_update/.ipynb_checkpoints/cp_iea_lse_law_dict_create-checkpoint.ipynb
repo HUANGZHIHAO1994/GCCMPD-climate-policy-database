{
 "cells": [
  {
   "cell_type": "markdown",
   "metadata": {},
   "source": [
    "# Content and Notes"
   ]
  },
  {
   "cell_type": "markdown",
   "metadata": {},
   "source": [
    "The term \"soft law\" refers to quasi-legal instruments which do not have any legally binding force (but may be politically binding), or whose binding force is somewhat weaker than the binding force of traditional law, often contrasted with soft law by being referred to as \"hard law\". \n",
    "\n",
    "The term \"hard law\" refers to legally binding obligations that are precise (or can be made precise through adjudication or the issuance of detailed regulations) and that delegate authority for interpreting and implementing the law.\n",
    "\n",
    "Traditionally, the term \"soft law\" is associated with international law, although more recently it has been transferred to other branches of domestic law as well.  \n",
    "\n",
    "**<u>In this research, the concept of soft law is extended from international law to domestic law.</u>**"
   ]
  },
  {
   "cell_type": "markdown",
   "metadata": {},
   "source": [
    "# Legal System"
   ]
  },
  {
   "cell_type": "markdown",
   "metadata": {},
   "source": [
    "- [我国立法体制](http://www.gov.cn/guoqing/2017-11/08/content_5238056.htm)    \n",
    "- [法律；行政法规；部门规章](http://www.gov.cn/zhengce/zc_flfg.htm)   \n",
    "- [世界各国立法机构：人民代表大会、国会、议会](http://www.npc.gov.cn/npc/c15914/wghy.shtml)  \n",
    "- [法律、行政法规、地方性法规、部门规章与地方规章的效力等级](http://rmfkb.cq.gov.cn/fztd/202006/t20200601_7529556_wap.html)、[我国现行立法体制](http://www.npc.gov.cn/npc/c12674/202010/5753daa65d374914b08d425e02b92b70.shtml)：地方、部门规章具有法律强制力  \n",
    "- 中国的法律可以划分为：**（1）宪法；（2）法律；（3）行政法规；（4）地方性法规；（5）自治条例和单行条例**。法律是从属于宪法的强制性规范，是宪法的具体化。宪法是国家法的基础与核心，法律则是国家法的重要组成部分。行政法规的效力仅次于宪法和法律，高于部门规章和地方性法规。 此外，国务院各部、委员会、中国人民银行、审计署和具有行政管理职能的直属机构，可以根据法律和国务院的行政法规、决定、命令，在本部门的权限范围内，制定规章。省、自治区、直辖市人民政府以及省、自治区人民政府所在地的市、经济特区所在地的市和其他经国务院批准的较大的市的人民政府，可以根据法律、行政法规和本地方的地方性法规，制定规章。规章的内容不得与法律、法规相抵触。      \n",
    "- **行政法规**的制定程序由《[行政法规制定程序条例](http://www.gov.cn/gongbao/content/2002/content_61545.htm)》予以规定，行政法规的名称一般称<u>“条例”，也可以称“规定”、“办法”等</u>。国务院根据全国人民代表大会及其常务委员会的授权决定制定的行政法规，称<u>“暂行条例”或者“暂行规定”</u>。国务院各部门和地方人民政府制定的规章不得称“条例”。\n",
    "- **规章**的制定程序由《[规章制定程序条例](http://www.gov.cn/zhengce/2020-12/26/content_5574504.htm)》予以规范，规章的名称一般称<u>“规定”、“办法”</u>，但不得称“条例”。\n",
    "- **一般行政规范性文件**的制定程序则主要由2012年《[党政机关公文处理工作条例](http://www.gov.cn/zwgk/2013-02/22/content_2337704.htm)》（之前是2000年《国家行政机关公文处理办法》）予以规定，其一般使用<u>“决议”、“决定”、“命令”、“公告”、“通知”、“意见”</u>等名称。[(国务院办公厅关于全面推行行政规范性文件合法性审核机制的指导意见)](http://www.gov.cn/zhengce/content/2018-12/20/content_5350427.htm)\n",
    "\n",
    "- [Yakima Regional Clean Air Agency (YRCAA)](https://www.yakimacleanair.org/services/definitions.html):  <br/> \n",
    "&emsp;**Statutes** are laws made by legislatures.  Most legislatures meet and make new statutes at least once a year.<br/>\n",
    "&emsp;An **Act** is a law also; it is a bill which has passed through the various federal or state legislative steps required for it and which has become law.<br/>\n",
    "&emsp;A **regulation** is a bit more formal than a **rule** – it prescribes the required conduct or action exactly <br/> \n",
    "&emsp;**Ordinances** are laws created by local “legislatures”, like city and county governments. <br/>"
   ]
  },
  {
   "cell_type": "markdown",
   "metadata": {},
   "source": [
    "# Categories and Classification Basis"
   ]
  },
  {
   "cell_type": "markdown",
   "metadata": {},
   "source": [
    "- **The Category of Hard Law** is based on the hierarchy of laws (Clegg M, Ellena K, Ennis D, et al., 2016).  \n",
    "- Senden L(2004) provide the **classification reference of Soft Law** as well as **the function of Soft Law**.  \n",
    "- The difference between **legislative and executive** is based on [LSE Climate Change Database](https://climate-laws.org/methodology-legislation), in accordance with whether they are enacted by the legislative or executive branch of government. Where the same body holds both legislative and executive power, a determination of whether a document constitutes <u>**a law or policy**</u> is made based on our best understanding of the country’s legal system.  <u>International Laws couldn't be classified as legislative or executive</u>.\n",
    "- The main difference between LSE and Gabriela Iacobuta, Navroz K. Dubash, Prabhat Upadhyaya, Mekdelawit Deribe & Niklas Höhne (2018) is that  the legal attribute is also considered in LSE. **In this paper**, we take the method of LSE, so the type of plans like \"12th Five-Year Plan for the Development of National Economy and Society (2011-2015)\" is executive, which is legislative in Dubash's definition. The hierarchy of local laws need to combine jurisdiction and manual judgment."
   ]
  },
  {
   "cell_type": "markdown",
   "metadata": {},
   "source": [
    "<!-- Hierarchy of laws (Clegg M, Ellena K, Ennis D, et al., 2016)\n",
    "![hierarchy](./jupyter_law_images/Hierarchy_of_Laws.png)\n",
    "![hierarchy](./jupyter_law_images/jurisdiction.png) -->"
   ]
  },
  {
   "cell_type": "code",
   "execution_count": 1,
   "metadata": {
    "scrolled": true
   },
   "outputs": [
    {
     "data": {
      "text/html": [
       "<div> Hierarchy of laws(Clegg M, Ellena K, Ennis D, et al., 2016)</div>\n",
       "<img src=\"./jupyter_law_images/Hierarchy_of_Laws.png\", width=480, heigth=360>\n",
       "<br> <br /> \n",
       "<div> Hierarchy of jurisdictions(Clegg M, Ellena K, Ennis D, et al., 2016)</div>\n",
       "<img src=\"./jupyter_law_images/jurisdiction.png\", width=480, heigth=360>\n"
      ],
      "text/plain": [
       "<IPython.core.display.HTML object>"
      ]
     },
     "metadata": {},
     "output_type": "display_data"
    }
   ],
   "source": [
    "%%html  \n",
    "<div> Hierarchy of laws(Clegg M, Ellena K, Ennis D, et al., 2016)</div>\n",
    "<img src=\"./jupyter_law_images/Hierarchy_of_Laws.png\", width=480, heigth=360>\n",
    "<br> <br /> \n",
    "<div> Hierarchy of jurisdictions(Clegg M, Ellena K, Ennis D, et al., 2016)</div>\n",
    "<img src=\"./jupyter_law_images/jurisdiction.png\", width=480, heigth=360>"
   ]
  },
  {
   "cell_type": "markdown",
   "metadata": {},
   "source": [
    "Three-tier Categories:  \n",
    "\n",
    "├── Hard Law  \n",
    "&emsp;├── Constitution (legislative)   \n",
    "&emsp;├── Statutes / Legislation     \n",
    "&emsp;&emsp; ├── International Law (-)   \n",
    "&emsp;&emsp; ├── Law/Act (almost legislative)  \n",
    "&emsp;&emsp; ├── Decree/Order/Ordinance (almost executive)   \n",
    "&emsp;&emsp; └── Common Law / Case Law (executive)   \n",
    "&emsp;└── Regulations / Rules (almost executive)  \n",
    "├── Soft Law & Quasi-legislative  \n",
    "&emsp;├── Preparatory and Informative Instruments (pre-law function)  \n",
    "&emsp;&emsp; ├── Preparatory Instruments (pre-law function)  \n",
    "&emsp;&emsp; └── Informative Instruments (partially pre-law function)  \n",
    "&emsp;├── Interpretative and Decisional Instruments (post-law function)  \n",
    "&emsp;&emsp; ├── Interpretative Communications and Notices (post-law function)  \n",
    "&emsp;&emsp; ├── Decisional Notices and Communications (post-law function)    \n",
    "&emsp;&emsp; └── Decisional Guidelines, Codes and Frameworks (post-law function)    \n",
    "&emsp;└── Steering Instruments (partially para-law function)  \n",
    "└── Other Strategy Plan or Target  "
   ]
  },
  {
   "cell_type": "markdown",
   "metadata": {},
   "source": [
    "- [中国应对气候变化的政策与行动(白皮书)](http://www.gov.cn/zhengce/2021-10/27/content_5646697.htm)   \n",
    "- [中国应对气候变化的政策与行动2020年度报告](http://www.mee.gov.cn/ywgz/ydqhbh/syqhbh/202107/W020210713306911348109.pdf)<br/>  \n",
    "***\n",
    "\n",
    "#### 上述分类在中国政策体系下的一些例子：\n",
    "- [中国生态环境法律(Law/Act)](https://www.mee.gov.cn/ywgz/fgbz/fl/)：如《中华人民共和国大气污染防治法》、《中华人民共和国环境保护法》、《中华人民共和国可再生能源法》  \n",
    "- [中国生态环境行政法规(Decree/Order/Ordinance)](https://www.mee.gov.cn/ywgz/fgbz/xzfg/)：如《排污许可管理条例》  \n",
    "- [中国生态环境规章(Regulation/Directive/Decision)](https://www.mee.gov.cn/ywgz/fgbz/guizhang/)：如《碳排放权交易管理办法（试行）》 注：《碳排放权交易管理暂行条例》（目前草案）完成后应该是行政法规这一等级。\n",
    "- [中国生态环境规划计划(Preparatory Instruments)](https://www.mee.gov.cn/ywgz/zcghtjdd/sthjghjh/index.shtml)：如《大气污染防治行动计划》\n",
    "- [中国生态环境标准(Decisional Guidelines, Codes and Frameworks)](https://www.mee.gov.cn/ywgz/zcghtjdd/sthjghjh/index.shtml)：如《电子工业水污染物排放标准》：为贯彻《中华人民共和国环境保护法》《中华人民共和国水污染防治法》《中华人民共和国海洋环境保护法》等法律、法规，防治环境污染，改善环境质量，促进电子工业的技术进步和可持续发展，制定本标准。本标准规定了电子工业企业、生产设施或研制线的水污染物排放控制要求、监测要求和监督管理要求。电子工业污水集中处理设施的水污染物排放管理也适用于本标准。电子工业水污染物排放标准（GB 39731-2020）    \n",
    "- 注：[中国生态环境部英文版网站](http://english.mee.gov.cn/Resources/laws/)只分了Environmental Laws、Environment-related Laws、Environment-related Regulations，把行政法规和规章都分到大目录Environment-related Regulations中，中文官网分的更细。  \n",
    "- 如：[全国碳排放权交易市场配额累计成交额突破10亿元(Informative Instruments)](https://www.mee.gov.cn/ywdt/hjywnews/202111/t20211112_960045.shtml)\n",
    "- 如：[关于违反《中华人民共和国环境噪声污染防治法》行为如何确定罚款额度问题的复函\n",
    "(Interpretative Communications and Notices)](https://www.mee.gov.cn/gkml/hbb/bgth/201711/t20171122_426715.htm)\n",
    "- 如：[关于征求《入河排污口监督管理技术指南 排污口分类（征求意见稿）》等4项国家生态环境标准意见的通知\n",
    "(Decisional Notices and Communications)](https://www.mee.gov.cn/xxgk2018/xxgk/xxgk06/202111/t20211119_960901.html)  \n",
    "- 如：[“无废城市”建设与再生资源产业发展建议 (Steering Instruments)](http://www.mee.gov.cn/home/ztbd/2020/wfcsjssdgz/bczc/gnjy/201904/P020190401618790631998.pdf)\n",
    "\n",
    "***\n",
    "- 另外，还有部分国务院及在编制的：\n",
    "《[国家应对气候变化规划（2014－2020年）](http://www.scio.gov.cn/xwfbh/xwbfbh/wqfbh/33978/35364/xgzc35370/Document/1514527/1514527.htm)》  \n",
    "《[全国碳排放权交易市场建设方案（发电行业）](https://www.ndrc.gov.cn/xxgk/zcfb/ghxwj/201712/t20171220_960930.html?code=&state=123)》  \n",
    "《国家适应气候变化战略2035》"
   ]
  },
  {
   "cell_type": "markdown",
   "metadata": {},
   "source": [
    "**Although there are some subtle differences between countries and regions in some aspects, the global legal hierarchy is roughly the same.**"
   ]
  },
  {
   "cell_type": "code",
   "execution_count": 2,
   "metadata": {},
   "outputs": [
    {
     "data": {
      "text/html": [
       "<div> Hierarchy of laws in EU</div>\n",
       "<img src=\"./jupyter_law_images/EU_laws_and_legislation.png\", width=320, heigth=240>\n",
       "<br> <br /> \n",
       "<div> Hierarchy of laws in US</div>\n",
       "<img src=\"./jupyter_law_images/US_Law_Hierarchy.jpg\", width=320, heigth=240>\n",
       "<br> <br /> \n",
       "<div> Hierarchy of Laws in Portuguese</div>\n",
       "<img src=\"./jupyter_law_images/The_Hierarchy_of_Laws_Portuguese.jpg\", width=320, heigth=240>\n",
       "<br> <br /> \n",
       "<div> Hierarchy of laws in KOR</div>\n",
       "<img src=\"./jupyter_law_images/Korea_legislation_system.png\", width=320, heigth=240>\n",
       "<br> <br /> \n",
       "<div> Hierarchy of laws in KHM</div>\n",
       "<img src=\"./jupyter_law_images/Hierarchy_of_norms_in_Cambodia.jpg\", width=320, heigth=240>\n"
      ],
      "text/plain": [
       "<IPython.core.display.HTML object>"
      ]
     },
     "metadata": {},
     "output_type": "display_data"
    }
   ],
   "source": [
    "%%html  \n",
    "<div> Hierarchy of laws in EU</div>\n",
    "<img src=\"./jupyter_law_images/EU_laws_and_legislation.png\", width=320, heigth=240>\n",
    "<br> <br /> \n",
    "<div> Hierarchy of laws in US</div>\n",
    "<img src=\"./jupyter_law_images/US_Law_Hierarchy.jpg\", width=320, heigth=240>\n",
    "<br> <br /> \n",
    "<div> Hierarchy of Laws in Portuguese</div>\n",
    "<img src=\"./jupyter_law_images/The_Hierarchy_of_Laws_Portuguese.jpg\", width=320, heigth=240>\n",
    "<br> <br /> \n",
    "<div> Hierarchy of laws in KOR</div>\n",
    "<img src=\"./jupyter_law_images/Korea_legislation_system.png\", width=320, heigth=240>\n",
    "<br> <br /> \n",
    "<div> Hierarchy of laws in KHM</div>\n",
    "<img src=\"./jupyter_law_images/Hierarchy_of_norms_in_Cambodia.jpg\", width=320, heigth=240>"
   ]
  },
  {
   "cell_type": "markdown",
   "metadata": {},
   "source": [
    "<!-- Hierarchy of laws in EU \n",
    "![hierarchy of EU](./jupyter_law_images/EU_laws_and_legislation.png) \n",
    "Hierarchy of laws in US \n",
    "![hierarchy of us](./jupyter_law_images/US_Law_Hierarchy.jpg) \n",
    "Hierarchy of Laws in Portuguese\n",
    "![hierarchy of us](./jupyter_law_images/The_Hierarchy_of_Laws_Portuguese.jpg)\n",
    "Hierarchy of laws in KOR\n",
    "![hierarchy of korea](./jupyter_law_images/Korea_legislation_system.png)\n",
    "Hierarchy of laws in KHM\n",
    "![hierarchy of Cambodia](./jupyter_law_images/Hierarchy_of_norms_in_Cambodia.jpg) -->"
   ]
  },
  {
   "cell_type": "markdown",
   "metadata": {},
   "source": [
    "## 1. Hard Law "
   ]
  },
  {
   "cell_type": "markdown",
   "metadata": {},
   "source": [
    "- the European Union regulations or directives are legally binding.  \n",
    "https://european-union.europa.eu/institutions-law-budget/law/types-legislation_en  \n",
    "https://ec.europa.eu/info/law/law-making-process/types-eu-law_en  \n",
    "- (Abbott K W, Snidal D., 2000) The term ***hard law*** as used in this special issue refers to **legally binding obligations** that are precise (or can be made precise through adjudication or the issuance of detailed regulations) and that **delegate authority** for interpreting and implementing the law."
   ]
  },
  {
   "cell_type": "markdown",
   "metadata": {},
   "source": [
    "### 1.1 Constitution"
   ]
  },
  {
   "cell_type": "markdown",
   "metadata": {},
   "source": [
    "In terms of the basic elements of the hierarchy, a ***constitution*** states the grounding legal and democratic principles that its government is obligated to uphold, and because of this is considered the supreme law in a country to which all other laws must adhere (Clegg M, Ellena K, Ennis D, et al., 2016)."
   ]
  },
  {
   "cell_type": "code",
   "execution_count": 3,
   "metadata": {},
   "outputs": [],
   "source": [
    "import json\n",
    "law_soft_law_strategy = dict()\n",
    "law_soft_law_strategy['Constitution'] = 'Constitution'"
   ]
  },
  {
   "cell_type": "markdown",
   "metadata": {},
   "source": [
    "### 1.2 Statutes / Legislation"
   ]
  },
  {
   "cell_type": "markdown",
   "metadata": {},
   "source": [
    "#### 1.2.1 International Law (Treaties / International Obligations)"
   ]
  },
  {
   "cell_type": "markdown",
   "metadata": {},
   "source": [
    "***Treaties*** are agreements between two or more countries, entered into after negotiation. Their purpose is to create international rules or standards by which the involved parties agree to abide. Much of international law has been written and enforced through treaties.   \n",
    "Treaties only override a national legislature if the signatory nation has agreed to this and follows through by making its legislation conform to the treaty. The most extensive example of this is the European Union (EU) (Clegg M, Ellena K, Ennis D, et al., 2016)."
   ]
  },
  {
   "cell_type": "code",
   "execution_count": 4,
   "metadata": {},
   "outputs": [],
   "source": [
    "law_soft_law_strategy['International Law'] = 'Treaties;Treaty;Covenants;Covenant'"
   ]
  },
  {
   "cell_type": "markdown",
   "metadata": {},
   "source": [
    "#### 1.2.2 Law/Act "
   ]
  },
  {
   "cell_type": "markdown",
   "metadata": {},
   "source": [
    "A ***statute*** is a law enacted by a legislature to govern society, and its authority is derived from the constitution or founding document of a country, which authorizes the legislature to enact it (Clegg M, Ellena K, Ennis D, et al., 2016)."
   ]
  },
  {
   "cell_type": "markdown",
   "metadata": {},
   "source": [
    "The phrases ***Act and Law*** are so close that they are sometimes used interchangeably. However, the key distinction between them is that an Act is passed by the legislative branch, whereas Law is the set of rules and regulations that the government enforces [(IIMT Group Of Colleges)](https://www.iimtindia.net/Blog/know-the-difference-between-act-and-law/).  \n",
    "\n",
    "***Laws vs Acts*** [(from U.S. Statutes)](https://www.senate.gov/legislative/Laws_and_Acts_page.htm)  \n",
    "When a bill is passed in identical form by both the Senate and the House, it is sent to the president for his signature.  If the president signs the bill, it becomes a law.  **Laws are also known as Acts of Congress**. Statute is another word that is used interchangeably with law."
   ]
  },
  {
   "cell_type": "markdown",
   "metadata": {},
   "source": [
    "***Bills v Acts*** [(from UK Parliament)](https://www.parliament.uk/about/how/publications/bills-acts/)  \n",
    "**A Bill is not an Act of Parliament**. A Bill becomes an Act if it is approved by the House of Commons and the House of Lords, and is formally agreed to by the reigning monarch (known as the Royal Assent). An Act of Parliament is a law, enforced in all areas of the UK where it is applicable.  \n",
    "\n",
    "Once a Bill becomes an Act of Parliament, it is the responsibility of the appropriate government department to implement it. For example, the Department for Transport would enforce a new law concerning speeding."
   ]
  },
  {
   "cell_type": "code",
   "execution_count": 5,
   "metadata": {},
   "outputs": [],
   "source": [
    "law_soft_law_strategy['Law/Act'] = 'Law;Laws;Act;Acts;Legislation;Legislative;Statutes;Statute'"
   ]
  },
  {
   "cell_type": "markdown",
   "metadata": {},
   "source": [
    "#### 1.2.3 Decree/Order/Ordinance"
   ]
  },
  {
   "cell_type": "markdown",
   "metadata": {},
   "source": [
    "***Executive orders*** are legally-binding directives to an executive agency by the president or other executive acting within his or her constitutional authority. ***Presidential decrees*** are similar to executive orders in that they are legally binding and issued by the president or executive. They allow the president or executive to enact certain types of laws , <u>without having to gain approval from the legislature</u> (Clegg M, Ellena K, Ennis D, et al., 2016)."
   ]
  },
  {
   "cell_type": "markdown",
   "metadata": {},
   "source": [
    "An ***ordinance*** is a law or decree by a municipality. Put differently, an ordinance is a local law [(Legal Information Institute of the Cornell Law School)](https://www.law.cornell.edu/wex/ordinance).  \n",
    "\n",
    "Ordinance (Belgium), a law adopted by the Brussels Parliament or the Common Community Commission  \n",
    "Ordinance (India), a temporary law promulgated by the President of India on recommendation of the Union Cabinet   \n",
    "Local ordinance, a law made by a municipality or other local authority  \n",
    "Ordonnance in French government, a regulation adopted by the executive in a domain normally reserved for statute law"
   ]
  },
  {
   "cell_type": "code",
   "execution_count": 6,
   "metadata": {},
   "outputs": [],
   "source": [
    "law_soft_law_strategy['Decree/Order/Ordinance'] = 'Ordinance;Ordinances;Order;Orders;Decree;Decrees;Sub-Decree;Decree-Law;Royal Decree;Royal Decrees'"
   ]
  },
  {
   "cell_type": "markdown",
   "metadata": {},
   "source": [
    "#### 1.2.4 Common Law / Case Law"
   ]
  },
  {
   "cell_type": "markdown",
   "metadata": {},
   "source": [
    "***Common law*** is not a level of hierarchy per se, nor is it law on a particular subject. Common law is law made by the courts, not by the legislature. Only a minority of countries accept the concept of common law, <u>but where it is recognized, it is a source of authority in law</u>. It consists of the judgments of courts, and is also referred to as ***case law***. This can be a judgment to interpret the wording of statute law, to protect the principles of natural justice, to fill a gap in the law, or to deal with an unforeseen situation not covered by statute. The common law consists of written decisions (not a codification or summary of the judgments) and the judgments may be cited in subsequent litigation, when other courts may approve of, follow, or distinguish the original judgment. These later judgments modify the common law (Clegg M, Ellena K, Ennis D, et al., 2016)."
   ]
  },
  {
   "cell_type": "markdown",
   "metadata": {},
   "source": [
    "### 1.3 Regulations / Rules"
   ]
  },
  {
   "cell_type": "markdown",
   "metadata": {},
   "source": [
    "***Regulations*** are issued under the authority of a statute by a division of the government or by a special body, such as an EMB. For this reason, they are sometimes referred to as “delegated” legislation, and they provide administrative and technical detail to carry out the purpose of the statute (Clegg M, Ellena K, Ennis D, et al., 2016)."
   ]
  },
  {
   "cell_type": "markdown",
   "metadata": {},
   "source": [
    "Article 249 (ex 189) EC:\n",
    "\n",
    "\"In order to carry out their task and in accordance with the provisions of this Treaty, the European Parliament acting jointly with the Council, the Council and the Commission shall make regulations and issue directives, take decisions, make recommendations or deliver opinions.\n",
    "\n",
    "A ***regulation*** shall have general application. It shall be <u>binding</u> in its entirety and directly applicable in all Member States.\n",
    "\n",
    "A ***directive*** shall be <u>binding</u>, as to the result to be achieved, upon each Member State to which it is addressed, but shall leave to the national authorities the choice of form and methods.\n",
    "\n",
    "A ***decision*** shall be <u>binding</u> in its entirety upon those to whom it is addressed.\n",
    "\n",
    "***Recommendations and opinions*** shall have <u>no binding</u> force.\""
   ]
  },
  {
   "cell_type": "markdown",
   "metadata": {},
   "source": [
    "**Difference between a Regulation, Directive and Decision**  [(USDA)](https://www.usda-eu.org/eu-basics-questions/difference-between-a-regulation-directive-and-decision/)\n",
    " \n",
    "\n",
    "- **Regulations** have binding legal force throughout every Member State and enter into force on a set date in all the Member States.  \n",
    "\n",
    "&emsp;&emsp;Example: Food Information to Consumers Regulation 1169/2011  \n",
    "\n",
    "- **Directives** lay down certain results that must be achieved but each Member State is free to decide how to transpose directives into national laws.  \n",
    "\n",
    "&emsp;&emsp;Example: Directive 2002/46 on the approximation of the laws of the Member States relating to food supplements  \n",
    "\n",
    "- **Decisions** are EU laws relating to specific cases and directed to individual or several Member States, companies or private individuals.  They are binding upon those to whom they are directed.  \n",
    "\n",
    "&emsp;&emsp;Example: Commission Implementing Decision 2016/1189 authorizing UV-treated milk as a novel food (see Article 3)  \n",
    "\n",
    "\n"
   ]
  },
  {
   "cell_type": "markdown",
   "metadata": {},
   "source": [
    "- Yet, on the basis of Article 249 EC, read in conjunction with the Rules of Procedure of the Council, the case law of the ECJ and the various proposals made to introduce‘laws’, it is in fact possible to construe such a concept. Of the five instruments provided for by Article 249 EC, the **regulation, directive and decision** are the ones that are attributed **legally binding force** (Senden L, 2004 P41-42).   \n",
    "- A **European framework law (directive)** shall be a **legislative act binding**, as to the result to be achieved, on the Member States to which it is addressed, but leaving the national authorities entirely free to choose the form and means of achieving that result (Senden L, 2004 P44).    \n",
    "- A European **regulation** shall be a **non-legislative act** of general application for the implementation of legislative acts and of certain specific provisions of the Constitution. It may either be binding in its entirety and directly applicable in all Member States, or **be binding**, as regards the result to be achieved, on all Member States to which it is addressed, but leaving the national authorities entirely free to choose the form and means of achieving that result. A European **decision** shall be a **non-legislative act**, **binding in its entirety**. A decision which specifies those to whom it is addressed shall be binding only on them (Senden L, 2004 P44).   \n",
    "- So, in general the Article 249 decision does not fulfil the condition of laying down general rules of conduct to be applied to an open group of addressees, which would allow it to be characterised as legislation. In view of this, the characterisation of the **decision** as legislation in the Council’s Rules of Procedure is largely a misrepresentation (Senden L, 2004 P52).   \n",
    "- The foregoing also shows that the function of decisions in the EC law-making process, compared with that of regulations and directives, is **a fundamentally different and also a more modest one** (Senden L, 2004 P53)."
   ]
  },
  {
   "cell_type": "code",
   "execution_count": 7,
   "metadata": {},
   "outputs": [],
   "source": [
    "law_soft_law_strategy['Regulation/Directive/Decision'] = \\\n",
    "    'Rules;Rule;Regulations;Regulation;Directive;Directives;Decision;Decisions;' \\\n",
    "    'Prohibition;Ban;Obligation;Mandatory;Mandate;Interim Measures'"
   ]
  },
  {
   "cell_type": "markdown",
   "metadata": {},
   "source": [
    "## 2. Soft Law & Quasi-legislative"
   ]
  },
  {
   "cell_type": "markdown",
   "metadata": {},
   "source": [
    "## Definition of Soft Law"
   ]
  },
  {
   "cell_type": "markdown",
   "metadata": {},
   "source": [
    "- Snyder(1994) Rules of conduct which, in principle, **have no legally binding force** but which nevertheless <u>may have practical effects</u>.  \n",
    "- Thürer(1990) considering that soft law concerns commitments which are more than policy statements but less than law in its strict sense. They all have in common, **without being binding as a matter of law**, <u>a certain proximity to the law or a certain legal relevance</u>.  \n",
    "- Borchardt and Wellens (1989) Community soft law concerns the rules of conduct which find themselves on the **legally non-binding level** (in the sense of enforceable and sanctionable) but which according to their drafters have to be awarded a legal scope, that has to be specified at every turn and therefore do not show a uniform value of intensity with regard to their legal scope, but do have in common that they are directed at (intention of the drafters) and have as effect (through the medium of the Community legal order) that they influence the conduct of Member States, institutions, undertakings and individuals, however without containing Community rights and obligations.\n",
    "- Senden L(2004) Rules of conduct that are laid down in instruments which **have not been attributed legally binding force** as such, but nevertheless <u>may have certain (indirect) legal effects</u>, and that are aimed at and may produce <u>practical effects</u>.  <br/>\n",
    "Clearly, the element of legal effect, in particular the attribution of legally binding force or not, is considered to be the feature that\n",
    "distinguishes soft law from hard law.  <br/>  \n",
    "- Senden L(2004) Three core elements of soft law:  \n",
    "The first common element is that 'rules of conduct’ or 'commitments' are concerned.   \n",
    "Secondly, there is agreement on the fact that these are laid down in instruments which have no legally binding force as such, but are nonetheless not devoid of all legal effect.   \n",
    "Thirdly, it is clear that they aim at or may lead to some practical effect or influence of behaviour.  "
   ]
  },
  {
   "cell_type": "markdown",
   "metadata": {},
   "source": [
    "## Relation between Soft Law and Hard Law"
   ]
  },
  {
   "cell_type": "markdown",
   "metadata": {},
   "source": [
    "- Senden L(2004) The relation between soft law and hard law is clear: soft law that derogates from hard law must be denied all legal effect.\n",
    "- Abbott K W, Snidal D.(2000) But bear in mind that soft law comes in many varieties: the choice between hard law and soft law is **not a binary one**."
   ]
  },
  {
   "cell_type": "markdown",
   "metadata": {},
   "source": [
    "## Three Main Functions (Senden L, 2004)"
   ]
  },
  {
   "cell_type": "markdown",
   "metadata": {},
   "source": [
    "- **pre-law function**       \n",
    "    Firstly, it can be considered to refer to the fact that a particular instrument is adopted with a view to the **elaboration and preparation of future Community legislation and policy**. It is then adopted with a view to assessing the desirability or necessity of this, and the possible contents.   \n",
    "    Secondly, the pre-law function can also be understood in a more substantive way, in the sense that soft law acts **pave the way for the adoption of legislation in the future**.\n",
    "\n",
    "- **post-law function**   \n",
    "    This may relate to the **putting into effect** or **further implementation of legislation** or to **facilitation of the correct interpretation and (uniform) application** thereof. In this respect, the existing rules may simply be restated, but new rules may also be established in line with these, which as such are not (necessarily) inherent to the existing legal framework.   \n",
    "    \n",
    "- **para-law function**  \n",
    "    The para-law function of Community soft law can be said to refer to its use **instead of or as an alternative to legislation**. A variety of situations may hide behind this function. Sometimes, soft law is intended only to serve as **a temporary alternative to legislation** and will in any event be replaced by legislation, which may in fact already be in the pipeline. Sometimes, however, it is intended to function as a **permanent alternative to legislation**, in particular where legislation is merely held out as a prospect in the event of unsatisfactory or non-compliance with the soft law act."
   ]
  },
  {
   "cell_type": "markdown",
   "metadata": {},
   "source": [
    "### 2.1 Preparatory and Informative Instruments"
   ]
  },
  {
   "cell_type": "markdown",
   "metadata": {},
   "source": [
    "#### Alternatives to Legislation:  \n",
    "- Regarding the **preparatory and informative instruments**, it can be concluded that **none of them** aim in fact at functioning as an alternative to legislation (Senden L, 2004 P221).  \n",
    "- Green Papers and White Papers may very well contribute to the choice of **alternative means of regulation** instead of legislation (Senden L, 2004 P222).  "
   ]
  },
  {
   "cell_type": "markdown",
   "metadata": {},
   "source": [
    "#### 2.1.1 Preparatory Instruments\n",
    "1. Green Papers (pre-law function)\n",
    "2. White Papers (pre-law function)\n",
    "3. Action Programmes (pre-law function)"
   ]
  },
  {
   "cell_type": "markdown",
   "metadata": {},
   "source": [
    "- **Green Papers (Senden L, 2004)**  \n",
    "    The **Green Papers** usually start with an overview of the present situation and regulatory framework in a particular area and then <u>identify the problems and challenges</u> in this respect. On the basis thereof, the need for future action is analysed and options or suggestions for action are presented.   \n",
    "    **The primary objective of Green Papers** can thus be characterised as to <u>gather the relevant facts and views that exist on a particular issue, in order to be able to decide on the next steps to take</u>; whether to propose legislation and, if so, in what form, and/or take any other kind of action.   \n",
    "    \n",
    "- **White Papers (Senden L, 2004)**  \n",
    "    This makes clear that **White Papers** serve a twofold objective. **On the one hand**, they constitute documents for discussion and consultation; **on the other**, they also aim at laying down the main lines or strategy of action for the future.     \n",
    "    But, generally speaking, White Papers often go a step **further than** Green Papers, in that they contain (concrete) proposals.  \n",
    "    \n",
    "- **Action programmes (Senden L, 2004)**  \n",
    "    **Action programmes** go **further than** Green Papers and White Papers, as they do not aim at consultation and debate, and are more concrete in that they set the agenda in a certain area, listing the concrete legislative and/or other kinds of action to be developed within a certain time space."
   ]
  },
  {
   "cell_type": "code",
   "execution_count": 8,
   "metadata": {},
   "outputs": [],
   "source": [
    "law_soft_law_strategy['Preparatory Instruments'] \\\n",
    "    = 'Green Papers;Green Paper;White Paper;White Papers;Action Programmes;Action Programme;' \\\n",
    "      'General Programmes;General Programme;Action Plans;Action Plan;Action Program;Action Programs;' \\\n",
    "      'Road Map;Act Programme;Support;Programs;Program;Programme;Programmes;Programming;' \\\n",
    "      'Plan;Plans;Roadmap;Route;Blueprint;Agenda;Vision;Campaign;Campaigns;Planned;Requirements;' \\\n",
    "      'Planning;Scheme;Budget;Targets;Target;Report;Reporting;Package;Measures;Incentive Measures;' \\\n",
    "      'Appropriate Measures;Common Rules;Appropriate Provisions'"
   ]
  },
  {
   "cell_type": "markdown",
   "metadata": {},
   "source": [
    "#### 2.1.2 Informative Instruments\n",
    "Not include interpretative and decisional communications (Senden L, 2004 P133).\n",
    "1. Inter-Institutional Communications (pre-law function)\n",
    "2. Purely Informative Communications (Not pre-law function)\n",
    "3. Individual Communications (Not pre-law function)"
   ]
  },
  {
   "cell_type": "markdown",
   "metadata": {},
   "source": [
    "- **Inter-Institutional Communications (Senden L, 2004)**  \n",
    "    The foremost **objective** of these communications is the stimulation of inter-institutional dialogue, with a view to the further development of Community law and policypolicy; hence their designation as **inter-institutional communications**.    \n",
    "    In these communications the Commission usually expresses its views or position in respect of a certain problem or issue, indicates the actions that might be taken and possibly also formulates its conclusions or proposals.  \n",
    "\n",
    "- **Purely Informative Communications (Senden L, 2004)**  \n",
    "    **Purely informative communications** are those communications in which a rather factual account is given of Community action, simply with a view to making this action public and informing those interested in it.  \n",
    "    As regards their contents, communications of this type may in fact be very similar to inter-institutional communications. The **difference** from the latter lies notably in their **objectives and addressees**. Whereas the inter-institutional communications are directed to other EC institutions with a view to furthering Community policy in consultation with them, the purely informative communications aim only at informing the **general public** of EC policy and of what is happening at Community level.   \n",
    "\n",
    "- **Individual Communications (Senden L, 2004)**  \n",
    "    The third and last subcategory of informative communications concerns communications on the (proposed) **application of Community law in a concrete case**. Hence, I refer to these as **individual communications**. "
   ]
  },
  {
   "cell_type": "code",
   "execution_count": 9,
   "metadata": {},
   "outputs": [],
   "source": [
    "law_soft_law_strategy['Informative Instruments'] = 'Information;Informations'"
   ]
  },
  {
   "cell_type": "markdown",
   "metadata": {},
   "source": [
    "### 2.2 Interpretative and Decisional Instruments"
   ]
  },
  {
   "cell_type": "markdown",
   "metadata": {},
   "source": [
    "#### Alternatives to Legislation:  \n",
    "- **Interpretative and decisional instruments** are not intended, at least in theory, to function as an alternative to legislation. (Senden L, 2004 P222)."
   ]
  },
  {
   "cell_type": "markdown",
   "metadata": {},
   "source": [
    "- Administrative Rules relate to existing law (distinguish between administrative rules and steering instruments) (Senden L, 2004 P140).   \n",
    "- Administrative rules, sometimes referred to as policy rules (Senden L, 2004 P140). <br/> "
   ]
  },
  {
   "cell_type": "markdown",
   "metadata": {},
   "source": [
    "- Evidence that Administrative Rules is not a classified directory as following (Senden L, 2004):\n",
    "1. P119 To this category belong notably the Commission's **communications and notices** and also certain **guidelines, codes and frameworks**. These are in fact the instruments that **bear resemblance to** the administrative rules or policy rules known as such in national legal systems.\n",
    "2. P140 Administrative Rules covers two distinct kinds of rules(instruments): interpretative rules and decisional rules (application)\n",
    "3. P141 The two types of rules may be closely related and not always easy to distinguish from each other\n",
    "4. P143 **Interpretative rules** are mainly to be found in **communications**  \n",
    "   P143 **Decisional rules** are primarily laid down in **notices**  \n",
    "   P143 Guidelines, codes and frameworks — can be characterised as decisional instruments\n",
    "5. P220 These (interpretative and decisional) instruments are taken together under the concept of administrative rules"
   ]
  },
  {
   "cell_type": "markdown",
   "metadata": {},
   "source": [
    "#### 2.2.1 Interpretative Communications and Notices"
   ]
  },
  {
   "cell_type": "markdown",
   "metadata": {},
   "source": [
    "- Communications may **at the same time** be informative and interpretative or interpretative and decisional (Senden L, 2004 P119).   \n",
    "- **Interpretative Communications and Notices** are adopted with a view to ensure the proper interpretation and — uniform — application (Senden L, 2004 P147).  \n",
    "- Since **interpretative instruments** are adopted with a view to **elucidating the interpretation** that should be given to the existing body of primary and secondary Community law, they can be said, in principle at least, **not to aim at laying down or creating new legal rules** (Senden L, 2004 P143). "
   ]
  },
  {
   "cell_type": "code",
   "execution_count": 10,
   "metadata": {},
   "outputs": [],
   "source": [
    "law_soft_law_strategy['Interpretative Communications and Notices'] \\\n",
    "    = 'Communication;Communications;Interpretation;Interpretative;Instruction;Note;Notes;Case;Cases;' \\\n",
    "      'Concept;Explain;Explanation;Explication;Explicate;Exposition'"
   ]
  },
  {
   "cell_type": "markdown",
   "metadata": {},
   "source": [
    "#### 2.2.2 Decisional Notices and Communications"
   ]
  },
  {
   "cell_type": "markdown",
   "metadata": {},
   "source": [
    "- The fundamental **difference between interpretative and decisional instruments** is the existence of **implementing and discretionary powers** (Senden L, 2004 P148).  \n",
    "- The rules laid down in **decisional notices** go **further than** those in **interpretative communications**, as they are not confined to interpretation but are also general rules regarding the way in which **implementing powers will be exercised** (Senden L, 2004 P148).  \n",
    "- In short, decisional notices **provide standards** for the way of acting not only of Commission administrators but also of the Member States, economic operators and national judges or authorities (Senden L, 2004 P149).  \n",
    "- As regards their intended legal status, the **decisional notices** themselves **do not** usually indicate that they **do not have legally binding force** nor aim at having legal effect. The Commission is obviously of the opinion that decisional notices do not intend to be legally binding in themselves, but those concerned by them are already bound by the underlying Treaty provisions or secondary law (Senden L, 2004 P149).   \n",
    "- In the Commission’s view, they contribute firstly to greater legal certainty (Senden L, 2004 P151).  \n",
    "- Notices do not aim at establishing new legal rules. They are only adopted **subsequent** to certain Treaty or secondary law provisions, **supplementing and supporting** these with a view to ensuring the proper interpretation and (uniform) application thereof and compliance therewith. As such, decisional notices can be said to fulfil the **post-law function**. (Senden L, 2004 P152).  "
   ]
  },
  {
   "cell_type": "code",
   "execution_count": 11,
   "metadata": {},
   "outputs": [],
   "source": [
    "law_soft_law_strategy['Decisional Notices and Communications'] \\\n",
    "    = 'Notification;Notice;Notices;Circulars;Circular'"
   ]
  },
  {
   "cell_type": "markdown",
   "metadata": {},
   "source": [
    "#### 2.2.3 Decisional Guidelines, Codes and Frameworks"
   ]
  },
  {
   "cell_type": "markdown",
   "metadata": {},
   "source": [
    "- **'Guidelines'** have themselves become a decisional instrument, in that they lay down rules making explicit the Commission policy in areas where it is **entrusted with the power** to decide on individual cases (Senden L, 2004 P153).  \n",
    "- Codes distinguished from 'codes of conduct' or 'codes of practice' (non-formal steering instruments) (Senden L, 2004 P154).  \n",
    "- Senden's book has a narrow definition of **desicional codes and frameworks**, and is limited to the field of state aid. For example: \"The main difference between decisional communications and notices on the one hand and **decisional guidelines, codes and frameworks** on the other, concerns the area in which they are adopted: guidelines, codes and frameworks are primarily adopted in the area of state aid\" (Senden L, 2004 P154). This study expands it to a larger scope such as the environment and economic development.  \n"
   ]
  },
  {
   "cell_type": "code",
   "execution_count": 12,
   "metadata": {},
   "outputs": [],
   "source": [
    "law_soft_law_strategy['Decisional Guidelines, Codes and Frameworks'] \\\n",
    "    = 'Code;Codes;Guidance;Guidances;Guide;Guides;Guideline;Guidelines;Standards;Standard;Norms;' \\\n",
    "      'Framework;Frameworks;Principles;Principle;' \\\n",
    "      'NOM;BDS;CP;NCM;NHN;MEPS;MEP;GB;GB/T;LI;LBN;KS;CNS;JS;RS;SANS;SNI;SASO;TIS;VC;IECC'"
   ]
  },
  {
   "cell_type": "markdown",
   "metadata": {},
   "source": [
    "### 2.3 Steering Instruments"
   ]
  },
  {
   "cell_type": "markdown",
   "metadata": {},
   "source": [
    "Steering Instruments (partially para-law function)  "
   ]
  },
  {
   "cell_type": "markdown",
   "metadata": {},
   "source": [
    "#### Alternatives to Legislation:  \n",
    "- **Opinions** **cannot** be considered to fulfil the elements necessary to function as an alternative to legislation (Senden L, 2004 P222).   \n",
    "- **Recommendations** may fulfil the para-law function and so are intended, to a certain extent at least, **to function as such an alternative** (Senden L, 2004 P223).   \n",
    "- Although it has been seen that another act, such as a code of conduct, may ‘hide’ behind in particular declarations and resolutions, it may nonetheless be upheld that **conclusions and declarations** normally pursue a **less far-reaching aim than resolutions and codes of conduct**. One could say in fact that Council conclusions and declarations guide or steer future Community action, by marking the political acceptance of the starting points for this action (Senden L, 2004 P224).   \n",
    "- Consequently, these instruments (**Resolutions and Codes of Conduct**) may not only fulfil the requirements for functioning as **an alternative to legislation**, but may also aim at indeed functioning as such an alternative (Senden L, 2004 P224).   \n",
    "     "
   ]
  },
  {
   "cell_type": "markdown",
   "metadata": {},
   "source": [
    "#### Functions:  \n",
    "- **Recommendations** may fulfil the **para-law function** and so are intended, to a certain extent at least, to function as such an alternative (Senden L, 2004 P223).   \n",
    "- **Opinions** have been said to fulfil the **pre-law and post-law functions**, but **not the para-law function**(Senden L, 2004 P223).  \n",
    "- **Conclusions and Declarations** have been considered to fulfil above all the **pre-law function** (Senden L, 2004 P224).   \n",
    "- **Resolutions and Codes of Conduct** have thus been found to fulfil the **para-law function**, although in certain cases the pre-law and post-law functions can also be identified (Senden L, 2004 P224).  "
   ]
  },
  {
   "cell_type": "markdown",
   "metadata": {},
   "source": [
    "- A number of quite frequently adopted instruments can be said to fall within this category, in particular **recommendations, opinions, resolutions, codes of conduct, conclusions and declarations**  (Senden L, 2004 P155-156).\n",
    "- Kapteyn and VerLoren van Themaat thus speak of steering mechanisms (sturingsmiddelen) in the context of Article 3 EC, considering in particular that in certain areas binding interventions in the form of directives or regulations are provided for, whereas in respect of others **only interventions of a financial nature or measures of an encouraging nature** are available  (Senden L, 2004 P156).\n",
    "- Unlike Senden, in order to be more in line with climate change and environmental policies research, steering instrument will be used in a broader sense, including economic and financial instruments such as subsidies and aid measures.  \n",
    "- The term itself already designates that the primary **objective** of the instruments that fall within this category is to **steer or guide action** in some way or another (Senden L, 2004 P156).  \n",
    "- This is a **fundamental difference** from the instruments that can be characterised as 'steering instruments', as these instruments lay down rules that are **not necessarily linked to the existing legal framework** in such a way (Senden L, 2004 P156).   \n",
    "- Steering instruments may lay down new rules, independently of an existing legal framework, or may be adopted in the context of such a framework, **prior to, simultaneous with or subsequent to legislation** (Senden L, 2004 P157).   \n",
    "- Generally, however, they do not confine themselves to the application or explanation of this legislation, but rather **entail an addition to the contents of existing acts** (Senden L, 2004 P157).   \n",
    "- **Formal steering instruments** that are actually provided for in the source catalogue of Article 249 EC: <u>Recommendations and opinions</u>; **Non-formal steering instruments** which have not been provided for as a general Community instrument by the Treaty but have occurred in the daily practice of Community law: <u>resolutions, conclusions, declarations, codes of conduct or codes of practice and guidelines</u> (Senden L, 2004 P158).  "
   ]
  },
  {
   "cell_type": "markdown",
   "metadata": {},
   "source": [
    "#### Recommendations and opinions"
   ]
  },
  {
   "cell_type": "markdown",
   "metadata": {},
   "source": [
    "- Treaty does not provide for any (legislative) harmonisation activity in that particular area. This seems to be the case especially as regards **recommendations** adopted in areas such as social policy, environmental policy or consumer policy (Senden L, 2004 P166).  \n",
    "- Recommendations that aim at harmonisation go further in that they aim at **aligning national legislative and administrative provisions** (Senden L, 2004 P166).  \n",
    "- One reason for not proposing legislation lies in the **flexible nature of recommendations**; they allow for a more rapid adaptation of rules to new technological developments than legislation. A second reason may lie in considerations of subsidiarity and proportionality, albeit the Commission does not often state this explicitly. A third possibility is that the chosen legal basis limits the choice of instrument and excludes the adoption of legislation (Senden L, 2004 P168-169).  \n",
    "- Sometimes, such recommendations lay down rules that are merely intended to be temporary substitutes for legislative rules, which will in all cases be replaced by legislative rules. These are possibly already in the pipeline at the time of the recommendations’ adoption. These recommendations can be said to fulfil a **temporary para-law function** (Senden L, 2004 P169).  \n",
    "- In the cases where it is established that there is in fact no desire, need or room for legislation, it can be argued that the recommendations are truly intended to fulfil a **permanent para-law function** (Senden L, 2004 P170).  \n",
    "- It is not always easy to separate the different functions and it may very well be that different functions can be identified in one and the same recommendation. Thus, **all three functions** can be considered present in those recommendations in which the Council is of the opinion that Community action should not only be continued but also intensified. It may be **more a question of emphasis as to which function is most apparent** (Senden L, 2004 P182).  \n",
    "- From this it can be inferred that Commission **opinions** mostly fulfil two functions, that is the pre-law and post-law functions. A major **difference between the recommendation and the opinion**, and their respective use in practice, thus appears to be that the opinion cannot be said to fulfil the para-law function, and it is not used as an alternative to legislation (Senden L, 2004 P188).    "
   ]
  },
  {
   "cell_type": "markdown",
   "metadata": {},
   "source": [
    "#### Conclusions"
   ]
  },
  {
   "cell_type": "markdown",
   "metadata": {},
   "source": [
    "- Puissochet has held that **Non-formal steering instruments** are in particular instruments that express **more a political engagement** than a legal one and non legally binding acts that can differ as to form, contents and the intention of the parties (Senden L, 2004 P190).  \n",
    "- Thus, more in general, **conclusions** can be typified as **political statements** expressing some common agreement on future Community action (Senden L, 2004 P195).  \n",
    "- In other words, it appears that most Council **conclusions** fit more within the process of preparation and elaboration of future Community action, rather than constituting Community (soft) law rules in their own right. The most important function of Council conclusions can therefore be said to be the **pre-law function** (Senden L, 2004 P196).  "
   ]
  },
  {
   "cell_type": "markdown",
   "metadata": {},
   "source": [
    "#### Declarations"
   ]
  },
  {
   "cell_type": "markdown",
   "metadata": {},
   "source": [
    "- There are often no specific addressees, and one can therefore say that Council **declarations** are external in the sense that they are intended to **inform the public of the positions taken by the Council and/or of the action or policy it proposes to develop in the future** (Senden L, 2004 P197-198).   \n",
    "- As such, **declarations** are rather **similar to Council conclusions** (Senden L, 2004 P198).   \n",
    "- The **declarations of a declaratory and requesting nature** can also be said to fulfil the **pre-law function**, insofar as they are adopted with a view to the elaboration of further Community action. The so-called **interpretative declarations** can be said to fulfil both the **pre-law and the post-law function** (Senden L, 2004 P199)."
   ]
  },
  {
   "cell_type": "markdown",
   "metadata": {},
   "source": [
    "#### Resolutions"
   ]
  },
  {
   "cell_type": "markdown",
   "metadata": {},
   "source": [
    "- Council **resolutions** thus contain considerations of — at least — two kinds. **Firstly**, they usually start with considerations expressing opinions, acknowledgements, recognitions, confirmations of certain views or considerations **stressing the need or desirability of certain actions**. This is emphasised not only by using verbs of this kind, but often also by putting them in capitals. **Secondly**, resolutions **call upon their addressees to undertake or continue certain actions**, the contents of which are determined by the previously expressed views of the Council (Senden L, 2004 P204).  \n",
    "- **The purposes resolutions** aim at are twofold. **On the one hand**, they may, like Council conclusions and declarations, involve a political acceptance of starting points and principles for future Community action, which to a certain extent at least have already been laid down by the Commission in the form of action programmes or are to be followed by such programmes. **On the other hand**, when it is evident what action is to be taken, resolutions are adopted specifying this action and inviting usually the Member States to take the indicated measures (Senden L, 2004 P206).   \n",
    "- Council **resolutions** can be said to fulfil one or more of the identified functions, but it is their **pre-law function** that has been emphasised most in legal writing (Senden L, 2004 P208). \n",
    "- The **pre-law function** is indeed most evident in the **resolutions** that concern the **establishment or proposed elaboration of action programmes**. Thus, the **para-law function** is clearly apparent in those resolutions to which **an annex has been attached**, setting out precise rules that the addressees are called upon to apply. The **post-law function** is most clearly expressed by the resolutions that are linked to a legislative act, and adopted with a view to the implementation and application of the requirements laid down therein (Senden L, 2004 P208-209).   \n",
    "- A significant **difference** from Council **recommendations** is that, generally speaking, Council **resolutions** only **rarely** mention a specific EC provision as a possible legal basis and only occasionally refer to the EC Treaty as such (Senden L, 2004 P209)."
   ]
  },
  {
   "cell_type": "markdown",
   "metadata": {},
   "source": [
    "#### Codes of Conduct or Practice"
   ]
  },
  {
   "cell_type": "markdown",
   "metadata": {},
   "source": [
    "- Their very designation already implies that **codes of conduct** aim at laying down rules of conduct, which are naturally intended to **influence the behaviour of their addressees**. This also becomes clear from the use of terms such as the establishment of ‘principles’, ‘criteria’, ‘standards’ and ‘recommendations’, to be adopted or applied by the addressees. As such, they are of a **normative nature** (Senden L, 2004 P211).   \n",
    "- Sometimes, **codes of conduct** indicate in so many words that they do **not have legally binding force**. Clearly, the absence of legally binding force has to be taken as a starting point for both Commission and Council codes of conduct (Senden L, 2004 P212).  \n",
    "- The foregoing shows that the **code of conduct**, if adopted solely under that designation, is considered to involve **more a political engagement** than a legally binding one (Senden L, 2004 P213).  \n",
    "- As regards the functions underlying **codes of conduct**, it can be observed that those of an external and general nature are often intended to function as an (at least temporary) **alternative to legislation**. As such, they can be regarded as fulfilling the **para-law function** (Senden L, 2004 P214).   \n",
    "- As such, it can be considered to fulfil the **post-law function** and to resemble in fact interpretative communications. Codes of a general and external nature may also be considered to fulfil the **pre-law function** (Senden L, 2004 P215).  "
   ]
  },
  {
   "cell_type": "code",
   "execution_count": 13,
   "metadata": {},
   "outputs": [],
   "source": [
    "law_soft_law_strategy['Steering Instruments'] \\\n",
    "    = 'Recommendation;Recommendations;Opinion;Opinions;Resolutions;Resolution;' \\\n",
    "      'Codes of Conduct;Conduct;Conclusion;Conclusions;Declaration;Declarations;' \\\n",
    "      'Agreement;Agreements;Protocol;Deal;Commitment;Announcement;Proclamation;' \\\n",
    "      'Aid;Tariff;Tariffs;Subsidy;Subsidies;Bonus;Awards;Award;Fund;Funding;Invest;Investment;' \\\n",
    "      'Promotion;Incentive;Incentives;Grants;Grant;Tax Credit;Tax Exemption;Kyoto Protocol'"
   ]
  },
  {
   "cell_type": "markdown",
   "metadata": {},
   "source": [
    "## 3. Other Strategy Plan or Target"
   ]
  },
  {
   "cell_type": "code",
   "execution_count": 14,
   "metadata": {},
   "outputs": [],
   "source": [
    "law_soft_law_strategy['Other Strategy Plan or Target'] \\\n",
    "    = 'Strategy;Strategies;Strategic;Accord;Policy;Policies;Pact;Voluntary;Audit;Audits;Projects;Project'\n",
    "\n",
    "with open('law_soft_law_strategy_dict.json', 'w') as f:\n",
    "    json.dump(law_soft_law_strategy, f)"
   ]
  },
  {
   "cell_type": "markdown",
   "metadata": {},
   "source": [
    "# Reference"
   ]
  },
  {
   "cell_type": "markdown",
   "metadata": {},
   "source": [
    "1. Senden L. Soft law in European Community law[M]. Hart publishing, 2004.\n",
    "2. BETTER REGULATION AND THE IMPROVEMENT OF EU REGULATORY ENVIRONMENT: https://www.europarl.europa.eu/RegData/etudes/note/join/2007/378290/IPOL-JURI_NT(2007)378290_EN.pdf\n",
    "3. Kovács A, Tóth T, Forgács A. The Legal Effects of European Soft Law and Their Recognition at National Administrative Courts[J]. ELTE LJ, 2016: 53.\n",
    "4. Terpan F. Soft Law in the European Union—The Changing Nature of EU Law[J]. European Law Journal, 2015, 21(1): 68-96.\n",
    "5. Koutalakis C, Buzogany A, Börzel T A. When soft regulation is not enough: The integrated pollution prevention and control directive of the European Union[J]. Regulation & Governance, 2010, 4(3): 329-344.\n",
    "6. Senden L A J. Soft law and its implications for institutional balance in the EC[J]. Utrecht L. Rev., 2005, 1: 79.\n",
    "7. Abbott K W, Snidal D. Hard and soft law in international governance[J]. International organization, 2000, 54(3): 421-456.\n",
    "8. Dupuy P M. Soft law and the international law of the environment[J]. Mich. J. Int'l L., 1990, 12: 420.\n",
    "9. Clegg M, Ellena K, Ennis D, et al. The Hierarchy of Laws Understanding and Implementing the Legal Frameworks that Govern Elections[J]. International Foundation for Electoral Systems, Arlington, VA, 2016.\n",
    "10. Climate Change Laws of the World database, Grantham Research Institute on Climate Change and the Environment and Sabin Center for Climate Change Law. Available at [climate-laws.org](https://climate-laws.org/)\n",
    "11. Duhaime's Law Dictionary: http://www.duhaime.org/"
   ]
  },
  {
   "cell_type": "code",
   "execution_count": null,
   "metadata": {},
   "outputs": [],
   "source": []
  }
 ],
 "metadata": {
  "kernelspec": {
   "display_name": "ieapaper",
   "language": "python",
   "name": "ieapaper"
  },
  "language_info": {
   "codemirror_mode": {
    "name": "ipython",
    "version": 3
   },
   "file_extension": ".py",
   "mimetype": "text/x-python",
   "name": "python",
   "nbconvert_exporter": "python",
   "pygments_lexer": "ipython3",
   "version": "3.6.13"
  }
 },
 "nbformat": 4,
 "nbformat_minor": 4
}
